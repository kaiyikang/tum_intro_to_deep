{
  "nbformat": 4,
  "nbformat_minor": 0,
  "metadata": {
    "kernelspec": {
      "display_name": "Python 3",
      "language": "python",
      "name": "python3"
    },
    "language_info": {
      "codemirror_mode": {
        "name": "ipython",
        "version": 3
      },
      "file_extension": ".py",
      "mimetype": "text/x-python",
      "name": "python",
      "nbconvert_exporter": "python",
      "pygments_lexer": "ipython3",
      "version": "3.7.6"
    },
    "papermill": {
      "duration": 22.166329,
      "end_time": "2021-02-15T17:01:45.644024",
      "environment_variables": {},
      "exception": null,
      "input_path": "__notebook__.ipynb",
      "output_path": "__notebook__.ipynb",
      "parameters": {},
      "start_time": "2021-02-15T17:01:23.477695",
      "version": "2.1.0"
    },
    "colab": {
      "name": "fianl_transformer.ipynb",
      "provenance": [],
      "collapsed_sections": []
    },
    "accelerator": "GPU"
  },
  "cells": [
    {
      "cell_type": "markdown",
      "metadata": {
        "id": "JeH7eSSgixhf"
      },
      "source": [
        "# Transformer code part"
      ]
    },
    {
      "cell_type": "markdown",
      "metadata": {
        "id": "5qX62Jawi8tC"
      },
      "source": [
        "## Import Packages"
      ]
    },
    {
      "cell_type": "code",
      "metadata": {
        "_cell_guid": "b1076dfc-b9ad-4769-8c92-a6c4dae69d19",
        "_uuid": "8f2839f25d086af736a60e9eeb907d3b93b6e0e5",
        "execution": {
          "iopub.execute_input": "2021-02-15T17:01:28.554384Z",
          "iopub.status.busy": "2021-02-15T17:01:28.553294Z",
          "iopub.status.idle": "2021-02-15T17:01:28.567389Z",
          "shell.execute_reply": "2021-02-15T17:01:28.567969Z"
        },
        "papermill": {
          "duration": 0.040817,
          "end_time": "2021-02-15T17:01:28.568172",
          "exception": false,
          "start_time": "2021-02-15T17:01:28.527355",
          "status": "completed"
        },
        "tags": [],
        "colab": {
          "base_uri": "https://localhost:8080/"
        },
        "id": "RZf5jlDhMD12",
        "outputId": "3cec6da4-aee8-4831-bb35-b27a482bc270"
      },
      "source": [
        "import torch\n",
        "import torch.nn as nn\n",
        "import torch.optim as optim\n",
        "import torch.nn.functional as F\n",
        "! python -m spacy download de\n",
        "! pip install torchtext==0.6.0\n",
        "from torchtext.data import Field, BucketIterator,TabularDataset\n",
        "\n",
        "import matplotlib.pyplot as plt\n",
        "import matplotlib.ticker as ticker\n",
        "\n",
        "import spacy\n",
        "import numpy as np\n",
        "\n",
        "import random\n",
        "import math\n",
        "import time\n",
        "\n",
        "device = torch.device('cuda' if torch.cuda.is_available() else 'cpu')"
      ],
      "execution_count": null,
      "outputs": [
        {
          "output_type": "stream",
          "text": [
            "Collecting de_core_news_sm==2.2.5\n",
            "\u001b[?25l  Downloading https://github.com/explosion/spacy-models/releases/download/de_core_news_sm-2.2.5/de_core_news_sm-2.2.5.tar.gz (14.9MB)\n",
            "\u001b[K     |████████████████████████████████| 14.9MB 8.8MB/s \n",
            "\u001b[?25hRequirement already satisfied: spacy>=2.2.2 in /usr/local/lib/python3.7/dist-packages (from de_core_news_sm==2.2.5) (2.2.4)\n",
            "Requirement already satisfied: catalogue<1.1.0,>=0.0.7 in /usr/local/lib/python3.7/dist-packages (from spacy>=2.2.2->de_core_news_sm==2.2.5) (1.0.0)\n",
            "Requirement already satisfied: tqdm<5.0.0,>=4.38.0 in /usr/local/lib/python3.7/dist-packages (from spacy>=2.2.2->de_core_news_sm==2.2.5) (4.41.1)\n",
            "Requirement already satisfied: plac<1.2.0,>=0.9.6 in /usr/local/lib/python3.7/dist-packages (from spacy>=2.2.2->de_core_news_sm==2.2.5) (1.1.3)\n",
            "Requirement already satisfied: preshed<3.1.0,>=3.0.2 in /usr/local/lib/python3.7/dist-packages (from spacy>=2.2.2->de_core_news_sm==2.2.5) (3.0.5)\n",
            "Requirement already satisfied: wasabi<1.1.0,>=0.4.0 in /usr/local/lib/python3.7/dist-packages (from spacy>=2.2.2->de_core_news_sm==2.2.5) (0.8.2)\n",
            "Requirement already satisfied: requests<3.0.0,>=2.13.0 in /usr/local/lib/python3.7/dist-packages (from spacy>=2.2.2->de_core_news_sm==2.2.5) (2.23.0)\n",
            "Requirement already satisfied: srsly<1.1.0,>=1.0.2 in /usr/local/lib/python3.7/dist-packages (from spacy>=2.2.2->de_core_news_sm==2.2.5) (1.0.5)\n",
            "Requirement already satisfied: cymem<2.1.0,>=2.0.2 in /usr/local/lib/python3.7/dist-packages (from spacy>=2.2.2->de_core_news_sm==2.2.5) (2.0.5)\n",
            "Requirement already satisfied: numpy>=1.15.0 in /usr/local/lib/python3.7/dist-packages (from spacy>=2.2.2->de_core_news_sm==2.2.5) (1.19.5)\n",
            "Requirement already satisfied: thinc==7.4.0 in /usr/local/lib/python3.7/dist-packages (from spacy>=2.2.2->de_core_news_sm==2.2.5) (7.4.0)\n",
            "Requirement already satisfied: blis<0.5.0,>=0.4.0 in /usr/local/lib/python3.7/dist-packages (from spacy>=2.2.2->de_core_news_sm==2.2.5) (0.4.1)\n",
            "Requirement already satisfied: murmurhash<1.1.0,>=0.28.0 in /usr/local/lib/python3.7/dist-packages (from spacy>=2.2.2->de_core_news_sm==2.2.5) (1.0.5)\n",
            "Requirement already satisfied: setuptools in /usr/local/lib/python3.7/dist-packages (from spacy>=2.2.2->de_core_news_sm==2.2.5) (53.0.0)\n",
            "Requirement already satisfied: importlib-metadata>=0.20; python_version < \"3.8\" in /usr/local/lib/python3.7/dist-packages (from catalogue<1.1.0,>=0.0.7->spacy>=2.2.2->de_core_news_sm==2.2.5) (3.4.0)\n",
            "Requirement already satisfied: urllib3!=1.25.0,!=1.25.1,<1.26,>=1.21.1 in /usr/local/lib/python3.7/dist-packages (from requests<3.0.0,>=2.13.0->spacy>=2.2.2->de_core_news_sm==2.2.5) (1.24.3)\n",
            "Requirement already satisfied: idna<3,>=2.5 in /usr/local/lib/python3.7/dist-packages (from requests<3.0.0,>=2.13.0->spacy>=2.2.2->de_core_news_sm==2.2.5) (2.10)\n",
            "Requirement already satisfied: chardet<4,>=3.0.2 in /usr/local/lib/python3.7/dist-packages (from requests<3.0.0,>=2.13.0->spacy>=2.2.2->de_core_news_sm==2.2.5) (3.0.4)\n",
            "Requirement already satisfied: certifi>=2017.4.17 in /usr/local/lib/python3.7/dist-packages (from requests<3.0.0,>=2.13.0->spacy>=2.2.2->de_core_news_sm==2.2.5) (2020.12.5)\n",
            "Requirement already satisfied: zipp>=0.5 in /usr/local/lib/python3.7/dist-packages (from importlib-metadata>=0.20; python_version < \"3.8\"->catalogue<1.1.0,>=0.0.7->spacy>=2.2.2->de_core_news_sm==2.2.5) (3.4.0)\n",
            "Requirement already satisfied: typing-extensions>=3.6.4; python_version < \"3.8\" in /usr/local/lib/python3.7/dist-packages (from importlib-metadata>=0.20; python_version < \"3.8\"->catalogue<1.1.0,>=0.0.7->spacy>=2.2.2->de_core_news_sm==2.2.5) (3.7.4.3)\n",
            "Building wheels for collected packages: de-core-news-sm\n",
            "  Building wheel for de-core-news-sm (setup.py) ... \u001b[?25l\u001b[?25hdone\n",
            "  Created wheel for de-core-news-sm: filename=de_core_news_sm-2.2.5-cp37-none-any.whl size=14907057 sha256=7607191a923309d9251a98736c6dd3bd67f1dc10dd6f96f8eff6010a30e9a73e\n",
            "  Stored in directory: /tmp/pip-ephem-wheel-cache-frz6tx8_/wheels/ba/3f/ed/d4aa8e45e7191b7f32db4bfad565e7da1edbf05c916ca7a1ca\n",
            "Successfully built de-core-news-sm\n",
            "Installing collected packages: de-core-news-sm\n",
            "Successfully installed de-core-news-sm-2.2.5\n",
            "\u001b[38;5;2m✔ Download and installation successful\u001b[0m\n",
            "You can now load the model via spacy.load('de_core_news_sm')\n",
            "\u001b[38;5;2m✔ Linking successful\u001b[0m\n",
            "/usr/local/lib/python3.7/dist-packages/de_core_news_sm -->\n",
            "/usr/local/lib/python3.7/dist-packages/spacy/data/de\n",
            "You can now load the model via spacy.load('de')\n",
            "Collecting torchtext==0.6.0\n",
            "\u001b[?25l  Downloading https://files.pythonhosted.org/packages/f2/17/e7c588245aece7aa93f360894179374830daf60d7ed0bbb59332de3b3b61/torchtext-0.6.0-py3-none-any.whl (64kB)\n",
            "\u001b[K     |████████████████████████████████| 71kB 5.6MB/s \n",
            "\u001b[?25hRequirement already satisfied: torch in /usr/local/lib/python3.7/dist-packages (from torchtext==0.6.0) (1.7.0+cu101)\n",
            "Collecting sentencepiece\n",
            "\u001b[?25l  Downloading https://files.pythonhosted.org/packages/f5/99/e0808cb947ba10f575839c43e8fafc9cc44e4a7a2c8f79c60db48220a577/sentencepiece-0.1.95-cp37-cp37m-manylinux2014_x86_64.whl (1.2MB)\n",
            "\u001b[K     |████████████████████████████████| 1.2MB 10.5MB/s \n",
            "\u001b[?25hRequirement already satisfied: tqdm in /usr/local/lib/python3.7/dist-packages (from torchtext==0.6.0) (4.41.1)\n",
            "Requirement already satisfied: six in /usr/local/lib/python3.7/dist-packages (from torchtext==0.6.0) (1.15.0)\n",
            "Requirement already satisfied: requests in /usr/local/lib/python3.7/dist-packages (from torchtext==0.6.0) (2.23.0)\n",
            "Requirement already satisfied: numpy in /usr/local/lib/python3.7/dist-packages (from torchtext==0.6.0) (1.19.5)\n",
            "Requirement already satisfied: dataclasses in /usr/local/lib/python3.7/dist-packages (from torch->torchtext==0.6.0) (0.6)\n",
            "Requirement already satisfied: typing-extensions in /usr/local/lib/python3.7/dist-packages (from torch->torchtext==0.6.0) (3.7.4.3)\n",
            "Requirement already satisfied: future in /usr/local/lib/python3.7/dist-packages (from torch->torchtext==0.6.0) (0.16.0)\n",
            "Requirement already satisfied: certifi>=2017.4.17 in /usr/local/lib/python3.7/dist-packages (from requests->torchtext==0.6.0) (2020.12.5)\n",
            "Requirement already satisfied: urllib3!=1.25.0,!=1.25.1,<1.26,>=1.21.1 in /usr/local/lib/python3.7/dist-packages (from requests->torchtext==0.6.0) (1.24.3)\n",
            "Requirement already satisfied: idna<3,>=2.5 in /usr/local/lib/python3.7/dist-packages (from requests->torchtext==0.6.0) (2.10)\n",
            "Requirement already satisfied: chardet<4,>=3.0.2 in /usr/local/lib/python3.7/dist-packages (from requests->torchtext==0.6.0) (3.0.4)\n",
            "Installing collected packages: sentencepiece, torchtext\n",
            "  Found existing installation: torchtext 0.3.1\n",
            "    Uninstalling torchtext-0.3.1:\n",
            "      Successfully uninstalled torchtext-0.3.1\n",
            "Successfully installed sentencepiece-0.1.95 torchtext-0.6.0\n"
          ],
          "name": "stdout"
        }
      ]
    },
    {
      "cell_type": "markdown",
      "metadata": {
        "id": "T26QWalOjMEQ"
      },
      "source": [
        "## Preparing Data"
      ]
    },
    {
      "cell_type": "code",
      "metadata": {
        "execution": {
          "iopub.execute_input": "2021-02-15T17:01:28.609951Z",
          "iopub.status.busy": "2021-02-15T17:01:28.609189Z",
          "iopub.status.idle": "2021-02-15T17:01:33.647729Z",
          "shell.execute_reply": "2021-02-15T17:01:33.646927Z"
        },
        "papermill": {
          "duration": 5.060228,
          "end_time": "2021-02-15T17:01:33.647872",
          "exception": false,
          "start_time": "2021-02-15T17:01:28.587644",
          "status": "completed"
        },
        "tags": [],
        "id": "GMZl8FVbMD2B"
      },
      "source": [
        "spacy_deutsch = spacy.load('de')\n",
        "spacy_english = spacy.load('en')\n",
        "\n",
        "def tokenize_de(text):\n",
        "    \"\"\"Tokenizes German text:  \n",
        "    \"\"\"\n",
        "    return [tok.text for tok in spacy_deutsch.tokenizer(text)]\n",
        "\n",
        "def tokenize_en(text):\n",
        "    \"\"\"\n",
        "    Tokenizes English text from a string into a list of strings\n",
        "    \"\"\"\n",
        "    return [tok.text for tok in spacy_english.tokenizer(text)]\n",
        "\n",
        "\n",
        "SRC = Field(tokenize = tokenize_de, \n",
        "            init_token = '<sos>', \n",
        "            eos_token = '<eos>', \n",
        "            lower = True, \n",
        "            batch_first = True)\n",
        "\n",
        "TRG = Field(tokenize = tokenize_en, \n",
        "            init_token = '<sos>', \n",
        "            eos_token = '<eos>', \n",
        "            lower = True,\n",
        "            batch_first = True)"
      ],
      "execution_count": null,
      "outputs": []
    },
    {
      "cell_type": "code",
      "metadata": {
        "colab": {
          "base_uri": "https://localhost:8080/"
        },
        "id": "Sd0Yabg8rsqw",
        "outputId": "4f67bca9-9b4e-4a78-b472-f287413dd181"
      },
      "source": [
        "from google.colab import drive\r\n",
        "drive.mount('/content/drive')"
      ],
      "execution_count": null,
      "outputs": [
        {
          "output_type": "stream",
          "text": [
            "Mounted at /content/drive\n"
          ],
          "name": "stdout"
        }
      ]
    },
    {
      "cell_type": "markdown",
      "metadata": {
        "id": "KAvYFRHPjhp4"
      },
      "source": [
        "### Please import the file path by yourself below this cell"
      ]
    },
    {
      "cell_type": "code",
      "metadata": {
        "execution": {
          "iopub.execute_input": "2021-02-15T17:01:33.700014Z",
          "iopub.status.busy": "2021-02-15T17:01:33.694766Z",
          "iopub.status.idle": "2021-02-15T17:01:37.204785Z",
          "shell.execute_reply": "2021-02-15T17:01:37.204041Z"
        },
        "papermill": {
          "duration": 3.538114,
          "end_time": "2021-02-15T17:01:37.204934",
          "exception": false,
          "start_time": "2021-02-15T17:01:33.666820",
          "status": "completed"
        },
        "tags": [],
        "colab": {
          "base_uri": "https://localhost:8080/"
        },
        "id": "yyqaB3qSMD2C",
        "outputId": "20322fb1-b197-44e5-8c02-f5c43ef1ea95"
      },
      "source": [
        "train_dataset, val_dataset, test_dataset = TabularDataset.splits(\n",
        "        path='Please import the file path by yourself', train='train.csv',\n",
        "        validation='valid.csv', test='test.csv', format='csv',\n",
        "        fields=[('src', SRC), ('trg', TRG)], skip_header = True)\n",
        "\n",
        "print(\"What the dataset looks like:\\n\")\n",
        "print(train_dataset[5])\n",
        "print(train_dataset[5].__dict__.keys())\n",
        "print(train_dataset[5].src,train_dataset[5].trg)\n",
        "\n",
        "\n",
        "SRC.build_vocab(train_dataset)\n",
        "TRG.build_vocab(train_dataset)\n",
        "print(\">> the number of words (or the length of dictionary) is : \", len(SRC.vocab))\n",
        "print(\">> the token of {} is {}\".format(\"<pad>\",SRC.vocab.stoi[\"<pad>\"]))\n",
        "print(\">> the token of {} is {}\".format(SRC.init_token,SRC.vocab.stoi[SRC.init_token]))\n",
        "print(\">> the token of {} is {}\".format(SRC.eos_token,SRC.vocab.stoi[SRC.eos_token]))\n",
        "\n",
        "BATCH_SIZE = 32\n",
        "\n",
        "train_iterator, valid_iterator, test_iterator = BucketIterator.splits(\n",
        "    (train_dataset, val_dataset, test_dataset), \n",
        "     batch_size = BATCH_SIZE,\n",
        "     sort_within_batch=True,\n",
        "     sort_key = lambda x: len(x.src),\n",
        "     device = device)"
      ],
      "execution_count": null,
      "outputs": [
        {
          "output_type": "stream",
          "text": [
            "What the dataset looks like:\n",
            "\n",
            "<torchtext.data.example.Example object at 0x7f778a2fe950>\n",
            "dict_keys(['src', 'trg'])\n",
            "['let', \"'s\", 'put', 'this', 'money', 'aside', 'for', 'our', 'summer', 'trip', '.'] ['legen', 'wir', 'dieses', 'geld', 'für', 'unsere', 'sommerreise', 'beiseite', '.']\n",
            ">> the number of words (or the length of dictionary) is :  13367\n",
            ">> the token of <pad> is 1\n",
            ">> the token of <sos> is 2\n",
            ">> the token of <eos> is 3\n",
            "tensor([[    2,   137,    10,    93,   246,     8,     3,     1,     1,     1,\n",
            "             1],\n",
            "        [    2,    18,  2786,    10,   244,   108,     4,     3,     1,     1,\n",
            "             1],\n",
            "        [    2,     6,    44,  1093,     4,     3,     1,     1,     1,     1,\n",
            "             1],\n",
            "        [    2,     6,    24,  1879,     4,     3,     1,     1,     1,     1,\n",
            "             1],\n",
            "        [    2,     7,  2058,   217,   190,     4,     3,     1,     1,     1,\n",
            "             1],\n",
            "        [    2,   123,  2027,    10,  1713,     4,     3,     1,     1,     1,\n",
            "             1],\n",
            "        [    2,    11,  4611,    10,  1410,     4,     3,     1,     1,     1,\n",
            "             1],\n",
            "        [    2,     7,    19,     9,    76,  1354,     4,     3,     1,     1,\n",
            "             1],\n",
            "        [    2,    74,   924,    10,  1104,     4,     3,     1,     1,     1,\n",
            "             1],\n",
            "        [    2,    15,    10,    76,    51,   103,   771,     4,     3,     1,\n",
            "             1],\n",
            "        [    2,    89,    41,   123,   597,     8,     3,     1,     1,     1,\n",
            "             1],\n",
            "        [    2,   492,   183,     5,    33,    14,   444,    27,     3,     1,\n",
            "             1],\n",
            "        [    2,    11,    10,   474,   892,  7132,     4,     3,     1,     1,\n",
            "             1],\n",
            "        [    2,     6,    24,    13,  1997,   223,     4,     3,     1,     1,\n",
            "             1],\n",
            "        [    2,    25,  1307,     7,   571,     8,     3,     1,     1,     1,\n",
            "             1],\n",
            "        [    2,    11,  1877,    18, 20682,   279,  3791,    32,  9088,     4,\n",
            "             3],\n",
            "        [    2,     7,    60,  1214,   336,     4,     3,     1,     1,     1,\n",
            "             1],\n",
            "        [    2,     6,    85,    91,  6069,     4,     3,     1,     1,     1,\n",
            "             1],\n",
            "        [    2,    15,    10,   120,    20,   887,     4,     3,     1,     1,\n",
            "             1],\n",
            "        [    2,     6,    24,    67,  2454,     4,     3,     1,     1,     1,\n",
            "             1],\n",
            "        [    2,   396,    47,   120,     4,     3,     1,     1,     1,     1,\n",
            "             1],\n",
            "        [    2,    15,    10,    58,   574,  1832,     4,     3,     1,     1,\n",
            "             1],\n",
            "        [    2,    13,   174,    56,  1468,     4,     3,     1,     1,     1,\n",
            "             1],\n",
            "        [    2,    89,    41,    16, 11305,     8,     3,     1,     1,     1,\n",
            "             1],\n",
            "        [    2,    11,  7690,    63,  2270,     4,     3,     1,     1,     1,\n",
            "             1],\n",
            "        [    2,    41,    13,  3352,     8,     3,     1,     1,     1,     1,\n",
            "             1],\n",
            "        [    2,   462,   197,    52,     8,     3,     1,     1,     1,     1,\n",
            "             1],\n",
            "        [    2,    15,   835,    14,  1483,     4,     3,     1,     1,     1,\n",
            "             1],\n",
            "        [    2,     7,   368,    36,  2734,     4,     3,     1,     1,     1,\n",
            "             1],\n",
            "        [    2,     6,    24,    22,   156,   283,     4,     3,     1,     1,\n",
            "             1],\n",
            "        [    2,   414,    11,  1114,    40,     4,     3,     1,     1,     1,\n",
            "             1],\n",
            "        [    2,    13,    10,    67,   246,     4,     3,     1,     1,     1,\n",
            "             1]], device='cuda:0')\n"
          ],
          "name": "stdout"
        }
      ]
    },
    {
      "cell_type": "code",
      "metadata": {
        "colab": {
          "base_uri": "https://localhost:8080/"
        },
        "id": "5tPyEpKQUBs6",
        "outputId": "6c685dd4-2ec0-4916-92b1-58830f5ac7a1"
      },
      "source": [
        "train_iterator, valid_iterator, test_iterator = BucketIterator.splits(\r\n",
        "    (train_dataset, val_dataset, test_dataset), \r\n",
        "     batch_size = BATCH_SIZE,\r\n",
        "     sort_within_batch=True,\r\n",
        "     sort_key = lambda x: len(x.src),\r\n",
        "     device = device)"
      ],
      "execution_count": null,
      "outputs": [
        {
          "output_type": "stream",
          "text": [
            "tensor([[    2,   137,    10,    93,   246,     8,     3,     1,     1,     1,\n",
            "             1],\n",
            "        [    2,    18,  2786,    10,   244,   108,     4,     3,     1,     1,\n",
            "             1],\n",
            "        [    2,     6,    44,  1093,     4,     3,     1,     1,     1,     1,\n",
            "             1],\n",
            "        [    2,     6,    24,  1879,     4,     3,     1,     1,     1,     1,\n",
            "             1],\n",
            "        [    2,     7,  2058,   217,   190,     4,     3,     1,     1,     1,\n",
            "             1],\n",
            "        [    2,   123,  2027,    10,  1713,     4,     3,     1,     1,     1,\n",
            "             1],\n",
            "        [    2,    11,  4611,    10,  1410,     4,     3,     1,     1,     1,\n",
            "             1],\n",
            "        [    2,     7,    19,     9,    76,  1354,     4,     3,     1,     1,\n",
            "             1],\n",
            "        [    2,    74,   924,    10,  1104,     4,     3,     1,     1,     1,\n",
            "             1],\n",
            "        [    2,    15,    10,    76,    51,   103,   771,     4,     3,     1,\n",
            "             1],\n",
            "        [    2,    89,    41,   123,   597,     8,     3,     1,     1,     1,\n",
            "             1],\n",
            "        [    2,   492,   183,     5,    33,    14,   444,    27,     3,     1,\n",
            "             1],\n",
            "        [    2,    11,    10,   474,   892,  7132,     4,     3,     1,     1,\n",
            "             1],\n",
            "        [    2,     6,    24,    13,  1997,   223,     4,     3,     1,     1,\n",
            "             1],\n",
            "        [    2,    25,  1307,     7,   571,     8,     3,     1,     1,     1,\n",
            "             1],\n",
            "        [    2,    11,  1877,    18, 20682,   279,  3791,    32,  9088,     4,\n",
            "             3],\n",
            "        [    2,     7,    60,  1214,   336,     4,     3,     1,     1,     1,\n",
            "             1],\n",
            "        [    2,     6,    85,    91,  6069,     4,     3,     1,     1,     1,\n",
            "             1],\n",
            "        [    2,    15,    10,   120,    20,   887,     4,     3,     1,     1,\n",
            "             1],\n",
            "        [    2,     6,    24,    67,  2454,     4,     3,     1,     1,     1,\n",
            "             1],\n",
            "        [    2,   396,    47,   120,     4,     3,     1,     1,     1,     1,\n",
            "             1],\n",
            "        [    2,    15,    10,    58,   574,  1832,     4,     3,     1,     1,\n",
            "             1],\n",
            "        [    2,    13,   174,    56,  1468,     4,     3,     1,     1,     1,\n",
            "             1],\n",
            "        [    2,    89,    41,    16, 11305,     8,     3,     1,     1,     1,\n",
            "             1],\n",
            "        [    2,    11,  7690,    63,  2270,     4,     3,     1,     1,     1,\n",
            "             1],\n",
            "        [    2,    41,    13,  3352,     8,     3,     1,     1,     1,     1,\n",
            "             1],\n",
            "        [    2,   462,   197,    52,     8,     3,     1,     1,     1,     1,\n",
            "             1],\n",
            "        [    2,    15,   835,    14,  1483,     4,     3,     1,     1,     1,\n",
            "             1],\n",
            "        [    2,     7,   368,    36,  2734,     4,     3,     1,     1,     1,\n",
            "             1],\n",
            "        [    2,     6,    24,    22,   156,   283,     4,     3,     1,     1,\n",
            "             1],\n",
            "        [    2,   414,    11,  1114,    40,     4,     3,     1,     1,     1,\n",
            "             1],\n",
            "        [    2,    13,    10,    67,   246,     4,     3,     1,     1,     1,\n",
            "             1]], device='cuda:0')\n"
          ],
          "name": "stdout"
        }
      ]
    },
    {
      "cell_type": "markdown",
      "metadata": {
        "id": "W5fYpoLkkW-i"
      },
      "source": [
        "## Model Definition"
      ]
    },
    {
      "cell_type": "code",
      "metadata": {
        "execution": {
          "iopub.execute_input": "2021-02-15T17:01:44.332568Z",
          "iopub.status.busy": "2021-02-15T17:01:44.327259Z",
          "iopub.status.idle": "2021-02-15T17:01:44.340898Z",
          "shell.execute_reply": "2021-02-15T17:01:44.340194Z"
        },
        "papermill": {
          "duration": 0.044435,
          "end_time": "2021-02-15T17:01:44.341026",
          "exception": false,
          "start_time": "2021-02-15T17:01:44.296591",
          "status": "completed"
        },
        "tags": [],
        "id": "kE7t84ElMD2J"
      },
      "source": [
        "class PositionalEncoding(nn.Module):\n",
        "    def __init__(self, hid_dim, dropout=0.1,max_len=5000):\n",
        "        super(PositionalEncoding, self).__init__()\n",
        "        self.dropout = nn.Dropout(p=dropout)\n",
        "\n",
        "        pe = torch.zeros(max_len, hid_dim)\n",
        "        position = torch.arange(0, max_len, dtype=torch.float).unsqueeze(1)\n",
        "        div_term = torch.exp(torch.arange(0, hid_dim, 2).float() * (-math.log(10000.0) / hid_dim))\n",
        "        pe[:, 0::2] = torch.sin(position * div_term)\n",
        "        pe[:, 1::2] = torch.cos(position * div_term)\n",
        "        pe = pe.unsqueeze(0).transpose(0, 1)\n",
        "        self.register_buffer('pe', pe)\n",
        "\n",
        "    def forward(self, x):\n",
        "        '''\n",
        "        x: (seq_len, batch_size, hid_dim)\n",
        "        '''\n",
        "        x = x + self.pe[:x.size(0), :]\n",
        "        return self.dropout(x)\n",
        "\n",
        "def get_attn_pad_mask(seq_q, seq_k):\n",
        "    '''\n",
        "    seq_q: (batch_size, seq_len)\n",
        "    seq_k: (batch_size, seq_len)\n",
        "    seq_len could be src_len or it could be target_len\n",
        "    seq_len in seq_q and seq_len in seq_k maybe not equal\n",
        "    '''\n",
        "    batch_size, quary_len = seq_q.size()\n",
        "    batch_size, key_len = seq_k.size()\n",
        "    # eq(zero) is PAD token\n",
        "    pad_attn_mask = seq_k.data.eq(0).unsqueeze(1)  # (batch_size, 1, key_len)\n",
        "    return pad_attn_mask.expand(batch_size, quary_len, key_len)  # (batch_size, quary_len, key_len)\n",
        "\n",
        "def get_attn_subsequence_mask(seq):\n",
        "    '''\n",
        "    seq: [batch_size, target_len]\n",
        "    '''\n",
        "    attn_shape = [seq.size(0), seq.size(1), seq.size(1)]\n",
        "    subsequence_mask = np.triu(np.ones(attn_shape), k=1) # Upper triangular matrix\n",
        "    subsequence_mask = torch.from_numpy(subsequence_mask).byte()\n",
        "    # (batch_size, target_len, target_len)\n",
        "    return subsequence_mask "
      ],
      "execution_count": null,
      "outputs": []
    },
    {
      "cell_type": "code",
      "metadata": {
        "id": "nuCmTw1LpqsG"
      },
      "source": [
        "class PositionwiseFeedforwardLayer(nn.Module):\r\n",
        "    def __init__(self, hid_dim, pf_dim, dropout):\r\n",
        "        super().__init__()\r\n",
        "        \r\n",
        "        self.fc_1 = nn.Linear(hid_dim, pf_dim)\r\n",
        "        self.fc_2 = nn.Linear(pf_dim, hid_dim)\r\n",
        "        \r\n",
        "        self.dropout = nn.Dropout(dropout)\r\n",
        "        \r\n",
        "    def forward(self, x):\r\n",
        "        \"\"\"\r\n",
        "        x: [batch_size, seq_len, hid_dim]\r\n",
        "        \"\"\"\r\n",
        "        # (batch_size, seq_len, pf_dim)\r\n",
        "        x = self.dropout(torch.relu(self.fc_1(x)))\r\n",
        "        \r\n",
        "        # (batch_size, seq_len, hid_dim)\r\n",
        "        x = self.fc_2(x)\r\n",
        "        return x"
      ],
      "execution_count": null,
      "outputs": []
    },
    {
      "cell_type": "code",
      "metadata": {
        "execution": {
          "iopub.execute_input": "2021-02-15T17:01:44.455278Z",
          "iopub.status.busy": "2021-02-15T17:01:44.454212Z",
          "iopub.status.idle": "2021-02-15T17:01:44.460457Z",
          "shell.execute_reply": "2021-02-15T17:01:44.459875Z"
        },
        "papermill": {
          "duration": 0.042346,
          "end_time": "2021-02-15T17:01:44.460584",
          "exception": false,
          "start_time": "2021-02-15T17:01:44.418238",
          "status": "completed"
        },
        "tags": [],
        "id": "45kfBqJXMD2K"
      },
      "source": [
        "class MultiHeadAttention(nn.Module):\n",
        "    # hid_dim -> hid_dim\n",
        "    def __init__(self, hid_dim, n_heads, dropout, device):\n",
        "        super(MultiHeadAttention, self).__init__()\n",
        "        assert hid_dim % n_heads == 0\n",
        "\n",
        "        self.hid_dim = hid_dim\n",
        "        self.n_heads = n_heads\n",
        "        self.head_dim = hid_dim // n_heads\n",
        "\n",
        "        self.W_Q = nn.Linear(hid_dim, hid_dim, bias=False)\n",
        "        self.W_K = nn.Linear(hid_dim, hid_dim, bias=False)\n",
        "        self.W_V = nn.Linear(hid_dim, hid_dim, bias=False)\n",
        "        \n",
        "        self.fc = nn.Linear(hid_dim, hid_dim, bias=False)\n",
        "        \n",
        "        self.dropout = nn.Dropout(dropout)\n",
        "        \n",
        "        self.scale = torch.sqrt(torch.FloatTensor([self.head_dim])).to(device)\n",
        "\n",
        "    def forward(self, query, key, value, attn_mask):\n",
        "        '''\n",
        "        query: (batch_size, quary_len, hid_dim]\n",
        "        key: (batch_size, key_len, hid_dim]\n",
        "        value: (batch_size, len_v(=key_len), hid_dim]\n",
        "        attn_mask: (batch_size, seq_len, seq_len]\n",
        "        '''\n",
        "        residual, batch_size = query, query.size(0)\n",
        "        # Q: (batch_size, n_heads, quary_len, hid_dim)\n",
        "        # K: (batch_size, n_heads, key_len, hid_dim)\n",
        "        # V: (batch_size, n_heads, key_len, hid_dim)\n",
        "\n",
        "        Q = self.W_Q(query).view(batch_size, -1, self.n_heads, self.head_dim ).permute(0, 2, 1, 3)\n",
        "        K = self.W_K(key).view(batch_size, -1, self.n_heads, self.head_dim ).permute(0, 2, 1, 3) \n",
        "        V = self.W_V(value).view(batch_size, -1, self.n_heads, self.head_dim ).permute(0, 2, 1, 3)\n",
        "        \n",
        "        # Create attention from Q and K \n",
        "        energy = torch.matmul(Q, K.permute(0, 1, 3, 2)) / self.scale\n",
        "        if attn_mask is not None:\n",
        "            energy = energy.masked_fill(attn_mask == 0, -1e10)\n",
        "        # (batch_size, n_heads, query len, key_len)\n",
        "        attention = torch.softmax(energy, dim = -1)\n",
        "\n",
        "        # (batch_size, n_heads, query len, head_dim)\n",
        "        context = torch.matmul(self.dropout(attention), V)\n",
        "\n",
        "        # (batch_size, query len, n_heads, head_dim)\n",
        "        context = context.permute(0, 2, 1, 3).contiguous()\n",
        "\n",
        "        # (batch_size, quary_len, hid_dim)\n",
        "        context = context.view(batch_size, -1, self.hid_dim)\n",
        "\n",
        "        # (batch_size, quary_len, hid_dim)\n",
        "        output = self.fc(context) \n",
        "\n",
        "        return output, attention"
      ],
      "execution_count": null,
      "outputs": []
    },
    {
      "cell_type": "code",
      "metadata": {
        "execution": {
          "iopub.execute_input": "2021-02-15T17:01:44.512755Z",
          "iopub.status.busy": "2021-02-15T17:01:44.511888Z",
          "iopub.status.idle": "2021-02-15T17:01:44.514323Z",
          "shell.execute_reply": "2021-02-15T17:01:44.514855Z"
        },
        "papermill": {
          "duration": 0.032842,
          "end_time": "2021-02-15T17:01:44.515019",
          "exception": false,
          "start_time": "2021-02-15T17:01:44.482177",
          "status": "completed"
        },
        "tags": [],
        "id": "-3xA-AZpMD2K"
      },
      "source": [
        "class PoswiseFeedForwardNet(nn.Module):\n",
        "    def __init__(self):\n",
        "        super(PoswiseFeedForwardNet, self).__init__()\n",
        "        self.fc = nn.Sequential(\n",
        "            nn.Linear(hid_dim, ff_dim, bias=False),\n",
        "            nn.ReLU(),\n",
        "            nn.Linear(ff_dim, hid_dim, bias=False)\n",
        "        )\n",
        "    def forward(self, inputs):\n",
        "        '''\n",
        "        inputs: (batch_size, seq_len, hid_dim)\n",
        "        '''\n",
        "        residual = inputs\n",
        "        output = self.fc(inputs)\n",
        "        # (batch_size, seq_len, hid_dim)\n",
        "        return nn.LayerNorm(hid_dim).cuda()(output + residual) "
      ],
      "execution_count": null,
      "outputs": []
    },
    {
      "cell_type": "code",
      "metadata": {
        "execution": {
          "iopub.execute_input": "2021-02-15T17:01:44.562065Z",
          "iopub.status.busy": "2021-02-15T17:01:44.561387Z",
          "iopub.status.idle": "2021-02-15T17:01:44.568803Z",
          "shell.execute_reply": "2021-02-15T17:01:44.569432Z"
        },
        "papermill": {
          "duration": 0.032723,
          "end_time": "2021-02-15T17:01:44.569594",
          "exception": false,
          "start_time": "2021-02-15T17:01:44.536871",
          "status": "completed"
        },
        "tags": [],
        "id": "SunUS5ZeMD2K"
      },
      "source": [
        "class EncoderLayer(nn.Module):\n",
        "    def __init__(self, \n",
        "                 hid_dim, \n",
        "                 n_heads, \n",
        "                 pf_dim,  \n",
        "                 dropout, \n",
        "                 device):\n",
        "        super().__init__()\n",
        "        \n",
        "        self.self_attn_layer_norm = nn.LayerNorm(hid_dim)\n",
        "        self.ff_layer_norm = nn.LayerNorm(hid_dim)\n",
        "        self.enc_self_attn = MultiHeadAttention(hid_dim, n_heads, dropout, device)\n",
        "        self.positionwise_feedforward = PositionwiseFeedforwardLayer(hid_dim, \n",
        "                                                                     pf_dim, \n",
        "                                                                     dropout)\n",
        "        self.dropout = nn.Dropout(dropout)\n",
        "    def forward(self, enc_inputs, enc_self_attn_mask):\n",
        "        '''\n",
        "        enc_inputs: [batch_size, src_len, hid_dim]\n",
        "        enc_self_attn_mask: [batch_size, src_len, src_len]\n",
        "        '''\n",
        "        #self attention\n",
        "        _source, _ = self.enc_self_attn(enc_inputs, \n",
        "                                     enc_inputs, \n",
        "                                     enc_inputs, \n",
        "                                     enc_self_attn_mask)\n",
        "        # dropout and residual\n",
        "        enc_inputs = self.self_attn_layer_norm(enc_inputs + self.dropout(_source))\n",
        "        \n",
        "        # positionwise ff\n",
        "        _source = self.positionwise_feedforward(enc_inputs)\n",
        "        # layer norm\n",
        "        # (batch_size, source_len,hidden_dim)\n",
        "        enc_outputs = self.ff_layer_norm(enc_inputs + self.dropout(_source))\n",
        "\n",
        "        return enc_outputs"
      ],
      "execution_count": null,
      "outputs": []
    },
    {
      "cell_type": "code",
      "metadata": {
        "execution": {
          "iopub.execute_input": "2021-02-15T17:01:44.616901Z",
          "iopub.status.busy": "2021-02-15T17:01:44.616109Z",
          "iopub.status.idle": "2021-02-15T17:01:44.624824Z",
          "shell.execute_reply": "2021-02-15T17:01:44.625351Z"
        },
        "papermill": {
          "duration": 0.033978,
          "end_time": "2021-02-15T17:01:44.625530",
          "exception": false,
          "start_time": "2021-02-15T17:01:44.591552",
          "status": "completed"
        },
        "tags": [],
        "id": "RAI02RTGMD2L"
      },
      "source": [
        "class DecoderLayer(nn.Module):\n",
        "    def __init__(self, \n",
        "                 hid_dim, \n",
        "                 n_heads, \n",
        "                 pf_dim, \n",
        "                 dropout, \n",
        "                 device):\n",
        "        super(DecoderLayer, self).__init__()\n",
        "        self.self_attn_norm = nn.LayerNorm(hid_dim)\n",
        "        self.enc_attn_norm = nn.LayerNorm(hid_dim)\n",
        "        self.ff_norm = nn.LayerNorm(hid_dim)\n",
        "\n",
        "        # decoder self attention\n",
        "        self.dec_self_attn = MultiHeadAttention(hid_dim, n_heads, dropout, device)\n",
        "        # encoder decoder attention\n",
        "        self.dec_enc_attn = MultiHeadAttention(hid_dim, n_heads, dropout, device)\n",
        "        # self.pos_ffn = PoswiseFeedForwardNet()\n",
        "        self.positionwise_feedforward = PositionwiseFeedforwardLayer(hid_dim, \n",
        "                                                                     pf_dim, \n",
        "                                                                     dropout)\n",
        "        self.dropout = nn.Dropout(dropout)\n",
        "\n",
        "    def forward(self, dec_inputs, enc_outputs, dec_self_attn_mask, dec_enc_attn_mask):\n",
        "        '''\n",
        "        dec_inputs: (batch_size, target_len, hid_dim)\n",
        "        enc_outputs: (batch_size, src_len, hid_dim)\n",
        "        dec_self_attn_mask: (batch_size, target_len, target_len)\n",
        "        dec_enc_attn_mask: (batch_size, target_len, src_len)\n",
        "        '''\n",
        "\n",
        "        # self attention = masked multi-head attention\n",
        "        _dec_inputs, _ = self.dec_self_attn(dec_inputs, \n",
        "                                      dec_inputs, \n",
        "                                      dec_inputs, \n",
        "                                      dec_self_attn_mask)\n",
        "        \n",
        "        # ADD and Norm\n",
        "        # (batch_size, target_len, hid_dim)\n",
        "        dec_inputs = self.self_attn_norm(dec_inputs + self.dropout(_dec_inputs))\n",
        "            \n",
        "        # multi-head attention with encoder attention\n",
        "        _dec_inputs, attention = self.dec_enc_attn(dec_inputs,\n",
        "                                                   enc_outputs,\n",
        "                                                   enc_outputs,\n",
        "                                                   dec_enc_attn_mask)\n",
        "        \n",
        "        # ADD and Norm\n",
        "        # (batch_size, target_len, hid_dim)\n",
        "        dec_inputs = self.enc_attn_norm(dec_inputs + self.dropout(_dec_inputs))\n",
        "                            \n",
        "        # positionwise feedforward\n",
        "        _dec_inputs = self.positionwise_feedforward(dec_inputs)\n",
        "        \n",
        "        # dropout, residual and layer norm\n",
        "        output = self.ff_norm(dec_inputs + self.dropout(_dec_inputs))\n",
        "        \n",
        "        # output: (batch_size, target_len, hid_dim)\n",
        "        # attention: (batch_size, n_heads, target_len, src_len)\n",
        "        return output, attention\n"
      ],
      "execution_count": null,
      "outputs": []
    },
    {
      "cell_type": "code",
      "metadata": {
        "execution": {
          "iopub.execute_input": "2021-02-15T17:01:44.674463Z",
          "iopub.status.busy": "2021-02-15T17:01:44.673786Z",
          "iopub.status.idle": "2021-02-15T17:01:44.684090Z",
          "shell.execute_reply": "2021-02-15T17:01:44.684635Z"
        },
        "papermill": {
          "duration": 0.037357,
          "end_time": "2021-02-15T17:01:44.684792",
          "exception": false,
          "start_time": "2021-02-15T17:01:44.647435",
          "status": "completed"
        },
        "tags": [],
        "id": "F_pKgjtfMD2L"
      },
      "source": [
        "class Encoder(nn.Module):\n",
        "    def __init__(self, input_dim, \n",
        "                 hid_dim, \n",
        "                 n_layers, \n",
        "                 n_heads, \n",
        "                 ff_dim, \n",
        "                 dropout,\n",
        "                 device,\n",
        "                 max_length = 5000):\n",
        "        super(Encoder, self).__init__()\n",
        "        self.device = device\n",
        "\n",
        "        self.src_emb = nn.Embedding(input_dim, hid_dim)\n",
        "        self.pos_emb = nn.Embedding(max_length, hid_dim)\n",
        "        self.layers = nn.ModuleList([EncoderLayer(hid_dim, \n",
        "                                                  n_heads, \n",
        "                                                  ff_dim,\n",
        "                                                  dropout, \n",
        "                                                  device) \n",
        "                                     for _ in range(n_layers)])\n",
        "        self.scale = torch.sqrt(torch.FloatTensor([hid_dim])).to(device)\n",
        "        self.dropout = nn.Dropout(dropout)\n",
        "\n",
        "    def forward(self, enc_inputs, enc_mask):\n",
        "        '''\n",
        "        enc_inputs: (batch_size, source_len)\n",
        "        enc_mask: (batch_size, 1, 1, source_len)\n",
        "        '''\n",
        "        batch_size, source_len = enc_inputs.shape[0] ,enc_inputs.shape[1]\n",
        "\n",
        "        # (batch_size, source_len)\n",
        "        pos = torch.arange(0, source_len).unsqueeze(0).repeat(batch_size, 1).to(self.device)\n",
        "        \n",
        "        # (batch_size, source_len, hid_dim)\n",
        "        enc_inputs = self.dropout((self.src_emb(enc_inputs) * self.scale) + self.pos_emb(pos))\n",
        "        \n",
        "        for layer in self.layers:\n",
        "            enc_inputs = layer(enc_inputs, enc_mask)\n",
        "        \n",
        "        # (batch_size, src_len, hid_dim)\n",
        "        return enc_inputs"
      ],
      "execution_count": null,
      "outputs": []
    },
    {
      "cell_type": "code",
      "metadata": {
        "execution": {
          "iopub.execute_input": "2021-02-15T17:01:44.732138Z",
          "iopub.status.busy": "2021-02-15T17:01:44.731477Z",
          "iopub.status.idle": "2021-02-15T17:01:44.744132Z",
          "shell.execute_reply": "2021-02-15T17:01:44.744684Z"
        },
        "papermill": {
          "duration": 0.038084,
          "end_time": "2021-02-15T17:01:44.744828",
          "exception": false,
          "start_time": "2021-02-15T17:01:44.706744",
          "status": "completed"
        },
        "tags": [],
        "id": "8jjeogLBMD2L"
      },
      "source": [
        "class Decoder(nn.Module):\n",
        "    def __init__(self,output_dim, \n",
        "                  hid_dim, \n",
        "                  n_layers, \n",
        "                  n_heads,\n",
        "                  ff_dim,            \n",
        "                  dropout,\n",
        "                  device,\n",
        "                 max_length = 100):\n",
        "        super(Decoder, self).__init__()\n",
        "        self.device = device\n",
        "        self.dropout = nn.Dropout(dropout)\n",
        "\n",
        "        self.tgt_emb = nn.Embedding(output_dim, hid_dim)\n",
        "        # self.pos_emb = PositionalEncoding(hid_dim)\n",
        "        self.pos_emb = nn.Embedding(max_length, hid_dim)\n",
        "        self.layers = nn.ModuleList([DecoderLayer(hid_dim, \n",
        "                                                  n_heads, \n",
        "                                                  ff_dim, \n",
        "                                                  dropout, \n",
        "                                                  device) \n",
        "                                    for _ in range(n_layers)])\n",
        "        self.fc = nn.Linear(hid_dim, output_dim)\n",
        "        self.scale = torch.sqrt(torch.FloatTensor([hid_dim])).to(device)\n",
        "\n",
        "    def forward(self, dec_inputs, enc_outputs, dec_mask, enc_mask):\n",
        "        '''\n",
        "        dec_inputs: (batch_size, target_len)\n",
        "        enc_outputs: (batch_size, src_len, hid_dim)\n",
        "        dec_mask: (batch_size, 1, target_len, target_len)\n",
        "        enc_mask: (batch_size, 1, 1, src_len)\n",
        "        '''\n",
        "        batch_size,target_len = dec_inputs.shape[0],dec_inputs.shape[1]\n",
        "\n",
        "        # (batch_size, target_len)\n",
        "        pos = torch.arange(0, target_len).unsqueeze(0).repeat(batch_size, 1).to(self.device)\n",
        "                            \n",
        "        #  (batch_size, target_len, hid_dim)\n",
        "        dec_inputs = self.dropout((self.tgt_emb(dec_inputs) * self.scale) + self.pos_emb(pos))\n",
        "\n",
        "        # dec_inputs: (batch_size, target_len, hid_dim)\n",
        "        # attention: (batch_size, n_heads, target_len, src_len)\n",
        "        for layer in self.layers:\n",
        "            dec_inputs, attention = layer(dec_inputs, enc_outputs, dec_mask, enc_mask)\n",
        "        \n",
        "        #  (batch_size, target_len, output_dim)\n",
        "        output = self.fc(dec_inputs)\n",
        "        \n",
        "        return output, attention\n"
      ],
      "execution_count": null,
      "outputs": []
    },
    {
      "cell_type": "code",
      "metadata": {
        "execution": {
          "iopub.execute_input": "2021-02-15T17:01:44.793527Z",
          "iopub.status.busy": "2021-02-15T17:01:44.792870Z",
          "iopub.status.idle": "2021-02-15T17:01:44.802246Z",
          "shell.execute_reply": "2021-02-15T17:01:44.802790Z"
        },
        "papermill": {
          "duration": 0.03597,
          "end_time": "2021-02-15T17:01:44.802937",
          "exception": false,
          "start_time": "2021-02-15T17:01:44.766967",
          "status": "completed"
        },
        "tags": [],
        "id": "iATgfZ5JMD2L"
      },
      "source": [
        "class Transformer(nn.Module):\n",
        "    def __init__(self, \n",
        "                 encoder, \n",
        "                 decoder, \n",
        "                 src_pad_idx, \n",
        "                 trg_pad_idx, \n",
        "                 device):\n",
        "        super().__init__()\n",
        "\n",
        "        self.encoder = encoder\n",
        "        self.decoder = decoder\n",
        "        self.s_pad = src_pad_idx\n",
        "        self.t_pad = trg_pad_idx\n",
        "        self.device = device\n",
        "\n",
        "    def make_s_mask(self,source):\n",
        "        \"\"\" Create mask for source\n",
        "        :param source: (batch_size, source_len)\n",
        "        \"\"\"\n",
        "        # return size: (batch_size, 1, 1, source_len)\n",
        "        return (source != self.s_pad).unsqueeze(1).unsqueeze(2)\n",
        "    \n",
        "    def make_t_mask(self, target):\n",
        "        \"\"\" Create mask for target\n",
        "        :param target: (batch_size, target_len)\n",
        "        \"\"\"    \n",
        "        # (batch_size, 1, 1, target_len)\n",
        "        target_pad_mask = (target != self.t_pad).unsqueeze(1).unsqueeze(2)   \n",
        "        target_len = target.shape[1]\n",
        "        \n",
        "        # (target_len, target_len)\n",
        "        target_sub_mask = torch.tril(torch.ones((target_len, target_len), device = self.device)).bool()\n",
        "\n",
        "        # (batch_size, 1, target_len, target_len)\n",
        "        target_mask = target_pad_mask & target_sub_mask\n",
        "        \n",
        "        return target_mask\n",
        "\n",
        "    def forward(self, enc_inputs, dec_inputs):\n",
        "        '''\n",
        "        enc_inputs: (batch_size, src_len)\n",
        "        dec_inputs: (batch_size, target_len)\n",
        "        '''\n",
        "        # enc_mask: (batch_size, 1, 1, src_len)\n",
        "        # dec_mask: (batch_size, 1, target_len, target_len)\n",
        "        enc_mask = self.make_s_mask(enc_inputs)\n",
        "        dec_mask = self.make_t_mask(dec_inputs)\n",
        "        # print(enc_mask)\n",
        "        # print(dec_mask)\n",
        "  \n",
        "        # enc_outputs: (batch_size, src_len, hid_dim)\n",
        "        enc_outputs  = self.encoder(enc_inputs,enc_mask)\n",
        "        \n",
        "        # dec_outpus: (batch_size, target_len, hid_dim)\n",
        "        # dec_enc_attn: (n_layers, batch_size, target_len, src_len)\n",
        "        dec_outputs, dec_enc_attns = self.decoder(dec_inputs, enc_outputs, dec_mask, enc_mask)\n",
        "        return dec_outputs, dec_enc_attns"
      ],
      "execution_count": null,
      "outputs": []
    },
    {
      "cell_type": "markdown",
      "metadata": {
        "id": "qJlkyzvYkecY"
      },
      "source": [
        "## Training Model"
      ]
    },
    {
      "cell_type": "code",
      "metadata": {
        "id": "GqQRr7CDMt8E"
      },
      "source": [
        "def train(model, iterator, optimizer, criterion, clip):\r\n",
        "    \r\n",
        "    model.train()\r\n",
        "    \r\n",
        "    epoch_loss = 0\r\n",
        "    \r\n",
        "    for i, batch in enumerate(iterator):\r\n",
        "        # take source and target from batch\r\n",
        "        source = batch.src\r\n",
        "        target = batch.trg\r\n",
        "        optimizer.zero_grad()\r\n",
        "\r\n",
        "        # output: (batch_size, target_len-1, output_dim)\r\n",
        "        # target: (batch_size, target_len)\r\n",
        "        output, _ = model(source, target[:,:-1]) \r\n",
        "        \r\n",
        "        # take the dim of output\r\n",
        "        output_dim = output.shape[-1]\r\n",
        "        \r\n",
        "        # output: ((target_len - 1) * batch_size, output_dim)\r\n",
        "        # target: ((target_len - 1) * batch_size)\r\n",
        "        output = output.contiguous().view(-1, output_dim)\r\n",
        "        target = target[:,1:].contiguous().view(-1)\r\n",
        "        \r\n",
        "        \r\n",
        "        loss = criterion(output, target)\r\n",
        "        loss.backward()\r\n",
        "\r\n",
        "        torch.nn.utils.clip_grad_norm_(model.parameters(), clip)\r\n",
        "        optimizer.step()\r\n",
        "\r\n",
        "        epoch_loss += loss.item()\r\n",
        "\r\n",
        "        if i != 0 and i % 1000 == 0:\r\n",
        "            print(i,\" \",epoch_loss/i)\r\n",
        "        \r\n",
        "    return epoch_loss / len(iterator)\r\n",
        "\r\n",
        "def evaluate(model, iterator, criterion):\r\n",
        "    \r\n",
        "    model.eval()\r\n",
        "    \r\n",
        "    epoch_loss = 0\r\n",
        "    \r\n",
        "    with torch.no_grad():\r\n",
        "    \r\n",
        "        for i, batch in enumerate(iterator):\r\n",
        "\r\n",
        "            src = batch.src\r\n",
        "            trg = batch.trg\r\n",
        "\r\n",
        "            output, _ = model(src, trg[:,:-1])\r\n",
        "            \r\n",
        "            #output = [batch_size, target_len - 1, output_dim]\r\n",
        "            #trg = [batch_size, target_len]\r\n",
        "            \r\n",
        "            output_dim = output.shape[-1]\r\n",
        "            \r\n",
        "            output = output.contiguous().view(-1, output_dim)\r\n",
        "            trg = trg[:,1:].contiguous().view(-1)\r\n",
        "            \r\n",
        "            #output = [batch_size * target_len - 1, output_dim]\r\n",
        "            #trg = [batch_size * target_len - 1]\r\n",
        "            \r\n",
        "            loss = criterion(output, trg)\r\n",
        "\r\n",
        "            epoch_loss += loss.item()\r\n",
        "        \r\n",
        "    return epoch_loss / len(iterator)"
      ],
      "execution_count": null,
      "outputs": []
    },
    {
      "cell_type": "code",
      "metadata": {
        "id": "PncEgKqYN_ep"
      },
      "source": [
        "source_dim = len(SRC.vocab)\r\n",
        "target_dim = len(TRG.vocab)\r\n",
        "\r\n",
        "# Transformer Parameters\r\n",
        "hid_dim = 256  # Embedding Size\r\n",
        "ff_dim = 512 # FeedForward dimension\r\n",
        "k_dim = v_dim = 256  # dimension of K(=Q), V\r\n",
        "n_layers = 3  # number of Encoder of Decoder Layer\r\n",
        "n_heads = 8  # number of heads in Multi-Head Attention\r\n",
        "clip = 1\r\n",
        "dropout = 0.1\r\n",
        "\r\n",
        "SRC_PAD_IDX = SRC.vocab.stoi[SRC.pad_token]\r\n",
        "TRG_PAD_IDX = TRG.vocab.stoi[TRG.pad_token]\r\n",
        "\r\n",
        "\r\n",
        "def epoch_time(start_time, end_time):\r\n",
        "    elapsed_time = end_time - start_time\r\n",
        "    elapsed_mins = int(elapsed_time / 60)\r\n",
        "    elapsed_secs = int(elapsed_time - (elapsed_mins * 60))\r\n",
        "    return elapsed_mins, elapsed_secs\r\n"
      ],
      "execution_count": null,
      "outputs": []
    },
    {
      "cell_type": "markdown",
      "metadata": {
        "id": "wmELeThqk7cI"
      },
      "source": [
        "## Training and Validation Dataset Testing"
      ]
    },
    {
      "cell_type": "code",
      "metadata": {
        "execution": {
          "iopub.execute_input": "2021-02-15T17:01:45.300699Z",
          "iopub.status.busy": "2021-02-15T17:01:45.300043Z",
          "iopub.status.idle": "2021-02-15T17:01:45.356911Z",
          "shell.execute_reply": "2021-02-15T17:01:45.357810Z"
        },
        "papermill": {
          "duration": 0.083941,
          "end_time": "2021-02-15T17:01:45.357988",
          "exception": false,
          "start_time": "2021-02-15T17:01:45.274047",
          "status": "completed"
        },
        "tags": [],
        "colab": {
          "base_uri": "https://localhost:8080/"
        },
        "id": "K2qLNex5MD2M",
        "outputId": "a0261879-edec-4e0f-c7fb-1d604bedc065"
      },
      "source": [
        "encoder = Encoder(source_dim, \n",
        "                  hid_dim, \n",
        "                  n_layers, \n",
        "                  n_heads, \n",
        "                  ff_dim, \n",
        "                  dropout,\n",
        "                  device)\n",
        "decoder = Decoder(target_dim, \n",
        "                  hid_dim, \n",
        "                  n_layers, \n",
        "                  n_heads,\n",
        "                  ff_dim,            \n",
        "                  dropout,\n",
        "                  device)\n",
        "model   = Transformer(encoder, decoder, \n",
        "                      SRC_PAD_IDX, TRG_PAD_IDX, \n",
        "                      device).to(device)\n",
        "\n",
        "criterion = nn.CrossEntropyLoss(ignore_index = TRG.vocab.stoi[\"<pad>\"])\n",
        "optimizer = optim.SGD(model.parameters(), lr=1e-3, momentum=0.99)\n",
        "\n",
        "\n",
        "epochss = 30\n",
        "clip = 1\n",
        "\n",
        "best_valid_loss = float('inf')\n",
        "\n",
        "# Plot record\n",
        "epoch_times =  []\n",
        "train_losses = []\n",
        "val_losses =   []\n",
        "all_start_time = time.time()\n",
        "\n",
        "\n",
        "for epoch in range(epochss):\n",
        "    \n",
        "    start_time = time.time()\n",
        "    \n",
        "    train_loss = train(model, train_iterator, optimizer, criterion, clip)\n",
        "    valid_loss = evaluate(model, valid_iterator, criterion)\n",
        "    \n",
        "    end_time = time.time()\n",
        "    \n",
        "    epoch_mins, epoch_secs = epoch_time(start_time, end_time)\n",
        "\n",
        "    # preapare the plot list\n",
        "    epoch_times.append(end_time-start_time)\n",
        "    train_losses.append(train_loss)\n",
        "    val_losses.append(valid_loss)\n",
        "    \n",
        "    if valid_loss < best_valid_loss:\n",
        "        best_valid_loss = valid_loss\n",
        "        torch.save(model.state_dict(), '/content/drive/MyDrive/Colab Notebooks/dataset/transformer-model3.pt')\n",
        "    \n",
        "    print('Epoch: {} Time: {}m {}s'.format(epoch,epoch_mins,epoch_secs))\n",
        "    print('>>> Train Loss: ',train_loss)\n",
        "    print('>>> Val   Loss: ',valid_loss)\n",
        "\n",
        "all_end_time = time.time()\n",
        "print(\">> total time of training: \", epoch_time(all_start_time, all_end_time))"
      ],
      "execution_count": null,
      "outputs": [
        {
          "output_type": "stream",
          "text": [
            "1000   5.957993990182876\n",
            "2000   5.356072033882141\n",
            "3000   5.051831928730011\n",
            "Epoch: 0 Time: 1m 48s\n",
            ">>> Train Loss:  4.94034275398113\n",
            ">>> Val   Loss:  4.151310873140359\n",
            "1000   4.125591979503632\n",
            "2000   4.0608104799985885\n",
            "3000   3.9968952112197877\n",
            "Epoch: 1 Time: 1m 48s\n",
            ">>> Train Loss:  3.9651951877554836\n",
            ">>> Val   Loss:  3.661785329217378\n",
            "1000   3.6961151719093324\n",
            "2000   3.6508615896701815\n",
            "3000   3.606906215985616\n",
            "Epoch: 2 Time: 1m 48s\n",
            ">>> Train Loss:  3.586461553758524\n",
            ">>> Val   Loss:  3.3460531547376746\n",
            "1000   3.3969973020553588\n",
            "2000   3.3595227773189547\n",
            "3000   3.3326664530436196\n",
            "Epoch: 3 Time: 1m 48s\n",
            ">>> Train Loss:  3.318657401351124\n",
            ">>> Val   Loss:  3.1142324948664264\n",
            "1000   3.1572190284729005\n",
            "2000   3.1387784960865974\n",
            "3000   3.119277028441429\n",
            "Epoch: 4 Time: 1m 48s\n",
            ">>> Train Loss:  3.1060058680021223\n",
            ">>> Val   Loss:  2.9298247545447835\n",
            "1000   2.9701464492082597\n",
            "2000   2.9496014851927757\n",
            "3000   2.934169264038404\n",
            "Epoch: 5 Time: 1m 47s\n",
            ">>> Train Loss:  2.9257944192103182\n",
            ">>> Val   Loss:  2.7697437507532614\n",
            "1000   2.8165368325710296\n",
            "2000   2.794405827701092\n",
            "3000   2.780652181228002\n",
            "Epoch: 6 Time: 1m 48s\n",
            ">>> Train Loss:  2.773418443577562\n",
            ">>> Val   Loss:  2.64382715732233\n",
            "1000   2.6681638613939285\n",
            "2000   2.6528372728824614\n",
            "3000   2.639219050049782\n",
            "Epoch: 7 Time: 1m 47s\n",
            ">>> Train Loss:  2.637259872237739\n",
            ">>> Val   Loss:  2.517403978782206\n",
            "1000   2.5593611776828764\n",
            "2000   2.5392306811213494\n",
            "3000   2.522293497244517\n",
            "Epoch: 8 Time: 1m 47s\n",
            ">>> Train Loss:  2.517852304020532\n",
            ">>> Val   Loss:  2.41598483658435\n",
            "1000   2.4382181544303894\n",
            "2000   2.4294184297323227\n",
            "3000   2.4188580902417502\n",
            "Epoch: 9 Time: 1m 47s\n",
            ">>> Train Loss:  2.4133453156351874\n",
            ">>> Val   Loss:  2.3316124323564353\n",
            "1000   2.3375778708457946\n",
            "2000   2.3339415033459665\n",
            "3000   2.322351338585218\n",
            "Epoch: 10 Time: 1m 47s\n",
            ">>> Train Loss:  2.3182902740963103\n",
            ">>> Val   Loss:  2.2558451302375055\n",
            "1000   2.240914626121521\n",
            "2000   2.2440664873719216\n",
            "3000   2.237833653608958\n",
            "Epoch: 11 Time: 1m 47s\n",
            ">>> Train Loss:  2.232759052883841\n",
            ">>> Val   Loss:  2.184596825080967\n",
            "1000   2.179858634471893\n",
            "2000   2.1673224727511404\n",
            "3000   2.158467265645663\n",
            "Epoch: 12 Time: 1m 47s\n",
            ">>> Train Loss:  2.155814523400491\n",
            ">>> Val   Loss:  2.123602249603315\n",
            "1000   2.0931719419956205\n",
            "2000   2.09430023086071\n",
            "3000   2.089168508092562\n",
            "Epoch: 13 Time: 1m 47s\n",
            ">>> Train Loss:  2.087256829181831\n",
            ">>> Val   Loss:  2.0780507131748354\n",
            "1000   2.0354163405895234\n",
            "2000   2.02614793664217\n",
            "3000   2.026433554768562\n",
            "Epoch: 14 Time: 1m 47s\n",
            ">>> Train Loss:  2.0238573627149683\n",
            ">>> Val   Loss:  2.024927590292971\n",
            "1000   1.9675761476755143\n",
            "2000   1.9700484214127063\n",
            "3000   1.9652032896081606\n",
            "Epoch: 15 Time: 1m 47s\n",
            ">>> Train Loss:  1.9634317978685454\n",
            ">>> Val   Loss:  1.9896202135317138\n",
            "1000   1.9106171637773515\n",
            "2000   1.9068565547168255\n",
            "3000   1.9094998197158177\n",
            "Epoch: 16 Time: 1m 47s\n",
            ">>> Train Loss:  1.9089177738304726\n",
            ">>> Val   Loss:  1.9379740126320546\n",
            "1000   1.861491110444069\n",
            "2000   1.8591726600527763\n",
            "3000   1.8580123958786328\n",
            "Epoch: 17 Time: 1m 48s\n",
            ">>> Train Loss:  1.8569092517875354\n",
            ">>> Val   Loss:  1.9111893181789967\n",
            "1000   1.8146548826694489\n",
            "2000   1.8115220661461353\n",
            "3000   1.8095680240591367\n",
            "Epoch: 18 Time: 1m 47s\n",
            ">>> Train Loss:  1.8094860992949675\n",
            ">>> Val   Loss:  1.874871130748105\n",
            "1000   1.7537642971277236\n",
            "2000   1.7646002140939236\n",
            "3000   1.7654835324287415\n",
            "Epoch: 19 Time: 1m 47s\n",
            ">>> Train Loss:  1.7642891269346095\n",
            ">>> Val   Loss:  1.8511629453270846\n",
            "1000   1.7169148374199867\n",
            "2000   1.7196743352413177\n",
            "3000   1.7223843132456145\n",
            "Epoch: 20 Time: 1m 47s\n",
            ">>> Train Loss:  1.7208758474653998\n",
            ">>> Val   Loss:  1.8185657007596376\n",
            "1000   1.6721226361393928\n",
            "2000   1.6783613358139993\n",
            "3000   1.680472792784373\n",
            "Epoch: 21 Time: 1m 47s\n",
            ">>> Train Loss:  1.6806971816755545\n",
            ">>> Val   Loss:  1.791006081154572\n",
            "1000   1.648292291343212\n",
            "2000   1.6436276381611825\n",
            "3000   1.6422575548489888\n",
            "Epoch: 22 Time: 1m 47s\n",
            ">>> Train Loss:  1.6430084643317724\n",
            ">>> Val   Loss:  1.7668555473724004\n",
            "1000   1.6021589759588242\n",
            "2000   1.6048443886041641\n",
            "3000   1.6068008371194205\n",
            "Epoch: 23 Time: 1m 47s\n",
            ">>> Train Loss:  1.6065263217726697\n",
            ">>> Val   Loss:  1.741796300409865\n",
            "1000   1.5770298280715942\n",
            "2000   1.573895825535059\n",
            "3000   1.5701932922204336\n",
            "Epoch: 24 Time: 1m 48s\n",
            ">>> Train Loss:  1.5708823667518903\n",
            ">>> Val   Loss:  1.7211663458950843\n",
            "1000   1.5321147817969323\n",
            "2000   1.5343906532227993\n",
            "3000   1.5387226522962252\n",
            "Epoch: 25 Time: 1m 47s\n",
            ">>> Train Loss:  1.5392237585903676\n",
            ">>> Val   Loss:  1.7062275830057354\n",
            "1000   1.4984888305068016\n",
            "2000   1.5033882958292961\n",
            "3000   1.5068583478132884\n",
            "Epoch: 26 Time: 1m 47s\n",
            ">>> Train Loss:  1.507112533797353\n",
            ">>> Val   Loss:  1.6872776324352081\n",
            "1000   1.4557533319592475\n",
            "2000   1.4705789559334517\n",
            "3000   1.478227164020141\n",
            "Epoch: 27 Time: 1m 47s\n",
            ">>> Train Loss:  1.4780552202577022\n",
            ">>> Val   Loss:  1.6756458339900493\n",
            "1000   1.4353218324780463\n",
            "2000   1.4413595369458199\n",
            "3000   1.445930616915226\n",
            "Epoch: 28 Time: 1m 47s\n",
            ">>> Train Loss:  1.4467972764983827\n",
            ">>> Val   Loss:  1.6556841522761054\n",
            "1000   1.4181375308036803\n",
            "2000   1.4202465761601926\n",
            "3000   1.4192451677719753\n",
            "Epoch: 29 Time: 1m 47s\n",
            ">>> Train Loss:  1.4205352154286595\n",
            ">>> Val   Loss:  1.6413303870907396\n",
            ">> total time of training:  (54, 4)\n"
          ],
          "name": "stdout"
        }
      ]
    },
    {
      "cell_type": "code",
      "metadata": {
        "execution": {
          "iopub.execute_input": "2021-02-15T17:01:45.410728Z",
          "iopub.status.busy": "2021-02-15T17:01:45.409732Z",
          "iopub.status.idle": "2021-02-15T17:01:45.419040Z",
          "shell.execute_reply": "2021-02-15T17:01:45.419598Z"
        },
        "papermill": {
          "duration": 0.036698,
          "end_time": "2021-02-15T17:01:45.419745",
          "exception": false,
          "start_time": "2021-02-15T17:01:45.383047",
          "status": "completed"
        },
        "tags": [],
        "id": "BMVBYANnMD2M",
        "colab": {
          "base_uri": "https://localhost:8080/",
          "height": 507
        },
        "outputId": "51533685-d6ae-4c47-dd96-6f4f6b9ac64d"
      },
      "source": [
        "import matplotlib as mpl\r\n",
        "import matplotlib.pyplot as plt\r\n",
        "\r\n",
        "plt.style.use('classic')\r\n",
        "\r\n",
        "x = np.linspace(0, 10, 100)\r\n",
        "plt.title(\"train loss and val loss\")\r\n",
        "plt.plot(range(len(train_losses)),train_losses)\r\n",
        "plt.plot(range(len(val_losses)),val_losses)\r\n",
        "plt.xlabel(\"epochs\")\r\n",
        "plt.ylabel(\"loss\")\r\n",
        "print(val_losses)\r\n",
        "plt.show()"
      ],
      "execution_count": null,
      "outputs": [
        {
          "output_type": "stream",
          "text": [
            "[4.151310873140359, 3.661785329217378, 3.3460531547376746, 3.1142324948664264, 2.9298247545447835, 2.7697437507532614, 2.64382715732233, 2.517403978782206, 2.41598483658435, 2.3316124323564353, 2.2558451302375055, 2.184596825080967, 2.123602249603315, 2.0780507131748354, 2.024927590292971, 1.9896202135317138, 1.9379740126320546, 1.9111893181789967, 1.874871130748105, 1.8511629453270846, 1.8185657007596376, 1.791006081154572, 1.7668555473724004, 1.741796300409865, 1.7211663458950843, 1.7062275830057354, 1.6872776324352081, 1.6756458339900493, 1.6556841522761054, 1.6413303870907396]\n"
          ],
          "name": "stdout"
        },
        {
          "output_type": "display_data",
          "data": {
            "image/png": "[encoded data removed]",
            "text/plain": [
              "<Figure size 640x480 with 1 Axes>"
            ]
          },
          "metadata": {
            "tags": []
          }
        }
      ]
    },
    {
      "cell_type": "code",
      "metadata": {
        "execution": {
          "iopub.execute_input": "2021-02-15T17:01:45.471541Z",
          "iopub.status.busy": "2021-02-15T17:01:45.470554Z",
          "iopub.status.idle": "2021-02-15T17:01:45.511061Z",
          "shell.execute_reply": "2021-02-15T17:01:45.511755Z"
        },
        "papermill": {
          "duration": 0.068341,
          "end_time": "2021-02-15T17:01:45.511900",
          "exception": false,
          "start_time": "2021-02-15T17:01:45.443559",
          "status": "completed"
        },
        "tags": [],
        "id": "AD35kjIaMD2M"
      },
      "source": [
        "from torchtext.data.metrics import bleu_score\n",
        "\n",
        "def translate_sentence(sentence, src_field, trg_field, model, device, max_len = 50):\n",
        "    \n",
        "    model.eval()\n",
        "\n",
        "    # sentenct to tokens \n",
        "    if isinstance(sentence, str):\n",
        "        nlp = spacy.load('de')\n",
        "        tokens = [token.text.lower() for token in nlp(sentence)]\n",
        "    else:\n",
        "        tokens = [token.lower() for token in sentence]\n",
        "\n",
        "    # it is still a word list, not numerical list\n",
        "    tokens = [src_field.init_token] + tokens + [src_field.eos_token]\n",
        "    # convert to token\n",
        "    src_indexes = [src_field.vocab.stoi[token] for token in tokens]\n",
        "    # to tensor and set in cuda\n",
        "    # (Batch_size(1), source_len)\n",
        "    src_tensor = torch.LongTensor(src_indexes).unsqueeze(0).to(device)\n",
        "    src_mask = model.make_s_mask(src_tensor)\n",
        "    \n",
        "    with torch.no_grad():\n",
        "        enc_src = model.encoder(src_tensor, src_mask)\n",
        "\n",
        "    trg_indexes = [trg_field.vocab.stoi[trg_field.init_token]]\n",
        "\n",
        "    for i in range(max_len):\n",
        "\n",
        "        trg_tensor = torch.LongTensor(trg_indexes).unsqueeze(0).to(device)\n",
        "\n",
        "        trg_mask = model.make_t_mask(trg_tensor)\n",
        "        \n",
        "        with torch.no_grad():\n",
        "            output, attention = model.decoder(trg_tensor, enc_src, trg_mask, src_mask)\n",
        "        \n",
        "        pred_token = output.argmax(2)[:,-1].item()\n",
        "        \n",
        "        trg_indexes.append(pred_token)\n",
        "\n",
        "        if pred_token == trg_field.vocab.stoi[trg_field.eos_token]:\n",
        "            break\n",
        "    \n",
        "    trg_tokens = [trg_field.vocab.itos[i] for i in trg_indexes]\n",
        "    \n",
        "    return trg_tokens[1:], attention\n",
        "\n",
        "\n",
        "def calculate_bleu(data, src_field, trg_field, model, device, max_len = 50):\n",
        "    \n",
        "    trgs = []\n",
        "    pred_trgs = []\n",
        "    for datum in data:\n",
        "        \n",
        "        src = vars(datum)['src']\n",
        "        trg = vars(datum)['trg']\n",
        "        \n",
        "        pred_trg, _ = translate_sentence(src, src_field, trg_field, model, device, max_len)\n",
        "        \n",
        "        # del <eos> token\n",
        "        pred_trg = pred_trg[:-1]\n",
        "        # \n",
        "        pred_trgs.append(pred_trg)\n",
        "        trgs.append([trg])\n",
        "\n",
        "    return bleu_score(pred_trgs, trgs)"
      ],
      "execution_count": null,
      "outputs": []
    },
    {
      "cell_type": "markdown",
      "metadata": {
        "id": "R8wvYRCakuMH"
      },
      "source": [
        "## BLEU Testing"
      ]
    },
    {
      "cell_type": "code",
      "metadata": {
        "colab": {
          "base_uri": "https://localhost:8080/"
        },
        "id": "rrFxfLqHfc7m",
        "outputId": "e1cb31a9-b663-47bf-c46f-7b2dc375d5d0"
      },
      "source": [
        "bleu_score = calculate_bleu(test_dataset, SRC, TRG, model, device)\r\n",
        "\r\n",
        "print('BLEU score: {}'.format(bleu_score*100))"
      ],
      "execution_count": null,
      "outputs": [
        {
          "output_type": "stream",
          "text": [
            "BLEU score: 30.88488280773163\n"
          ],
          "name": "stdout"
        }
      ]
    },
    {
      "cell_type": "markdown",
      "metadata": {
        "id": "6moy95ZWkzfP"
      },
      "source": [
        "## Attention Display"
      ]
    },
    {
      "cell_type": "code",
      "metadata": {
        "id": "zCG30gM63AJp"
      },
      "source": [
        "def display_attention(sentence, translation, attention, n_heads = 8, n_rows = 4, n_cols = 2):\r\n",
        "    \r\n",
        "    assert n_rows * n_cols == n_heads\r\n",
        "    \r\n",
        "    fig = plt.figure(figsize=(15,25))\r\n",
        "    \r\n",
        "    for i in range(n_heads):\r\n",
        "        \r\n",
        "        ax = fig.add_subplot(n_rows, n_cols, i+1)\r\n",
        "        \r\n",
        "        _attention = attention.squeeze(0)[i].cpu().detach().numpy()\r\n",
        "\r\n",
        "        cax = ax.matshow(_attention, cmap='bone')\r\n",
        "\r\n",
        "        ax.tick_params(labelsize=12)\r\n",
        "        ax.set_xticklabels(['']+['<sos>']+[t.lower() for t in sentence]+['<eos>'], \r\n",
        "                           rotation=45)\r\n",
        "        ax.set_yticklabels(['']+translation)\r\n",
        "\r\n",
        "        ax.xaxis.set_major_locator(ticker.MultipleLocator(1))\r\n",
        "        ax.yaxis.set_major_locator(ticker.MultipleLocator(1))\r\n",
        "\r\n",
        "    plt.show()\r\n",
        "    plt.close()"
      ],
      "execution_count": null,
      "outputs": []
    },
    {
      "cell_type": "code",
      "metadata": {
        "colab": {
          "base_uri": "https://localhost:8080/"
        },
        "id": "3p0XZ8vF3J8h",
        "outputId": "58efcc79-33f2-4b8a-bad4-d34f26069c6d"
      },
      "source": [
        "example_idx = 70\r\n",
        "\r\n",
        "src = vars(train_dataset.examples[example_idx])['src']\r\n",
        "trg = vars(train_dataset.examples[example_idx])['trg']\r\n",
        "\r\n",
        "print(f'src = {src}')\r\n",
        "print(f'trg = {trg}')"
      ],
      "execution_count": null,
      "outputs": [
        {
          "output_type": "stream",
          "text": [
            "src = ['why', 'were', 'you', 'holding', 'his', 'hand', '?']\n",
            "trg = ['warum', 'hältst', 'du', 'seine', 'hand', '?']\n"
          ],
          "name": "stdout"
        }
      ]
    },
    {
      "cell_type": "code",
      "metadata": {
        "colab": {
          "base_uri": "https://localhost:8080/"
        },
        "id": "Be8imqzK3N6N",
        "outputId": "03473979-b78c-4641-ba2c-9c5a1bbabe75"
      },
      "source": [
        "translation, attention = translate_sentence(src, SRC, TRG, model, device)\r\n",
        "print(f'predicted trg = {translation}')"
      ],
      "execution_count": null,
      "outputs": [
        {
          "output_type": "stream",
          "text": [
            "predicted trg = ['warum', 'warst', 'du', 'seine', 'hand', '?', '<eos>']\n"
          ],
          "name": "stdout"
        }
      ]
    },
    {
      "cell_type": "code",
      "metadata": {
        "colab": {
          "base_uri": "https://localhost:8080/",
          "height": 1000
        },
        "id": "BgLVykbcGLSj",
        "outputId": "6a1c76a9-b423-438c-bf90-a3915d3c4ae7"
      },
      "source": [
        "display_attention(trg, translation, attention)"
      ],
      "execution_count": null,
      "outputs": [
        {
          "output_type": "display_data",
          "data": {
            "image/png": "[encoded data removed]",
            "text/plain": [
              "<Figure size 1200x2000 with 8 Axes>"
            ]
          },
          "metadata": {
            "tags": []
          }
        }
      ]
    }
  ]
}